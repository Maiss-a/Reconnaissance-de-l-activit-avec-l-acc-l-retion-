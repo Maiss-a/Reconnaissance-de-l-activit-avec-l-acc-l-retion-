{
 "cells": [
  {
   "cell_type": "code",
   "execution_count": null,
   "metadata": {},
   "outputs": [],
   "source": []
  },
  {
   "cell_type": "code",
   "execution_count": null,
   "metadata": {},
   "outputs": [],
   "source": []
  },
  {
   "cell_type": "code",
   "execution_count": 2,
   "metadata": {},
   "outputs": [],
   "source": [
    "import pandas as pd\n",
    "import numpy as np\n",
    "import matplotlib.pyplot as plt\n",
    "%matplotlib inline\n",
    "import seaborn as sns\n",
    "from mpl_toolkits.mplot3d import Axes3D\n",
    "import os\n",
    "\n",
    "from sklearn.model_selection import train_test_split\n"
   ]
  },
  {
   "cell_type": "markdown",
   "metadata": {},
   "source": [
    "### selectionner les 988 premiers instances pour chaque individu\n",
    "\n"
   ]
  },
  {
   "cell_type": "markdown",
   "metadata": {},
   "source": [
    "on va séléctioner les 988 instances premiers \n",
    " \n",
    "988 line <=> 19 seconds (car la fréquence est 52 52 lignes=1second)"
   ]
  },
  {
   "cell_type": "code",
   "execution_count": 22,
   "metadata": {},
   "outputs": [],
   "source": [
    "        df11= pd.read_excel(\"D:\\\\last_dataset\\\\1_Working at Computer.xlsx\" ,sheet_name='indi1')\n",
    "        df11 = df11.head(988)\n",
    "        df12= pd.read_excel(\"D:\\\\last_dataset\\\\1_Working at Computer.xlsx\" ,sheet_name='indi2')\n",
    "        df12 = df12.head(988)\n",
    "        df13= pd.read_excel(\"D:\\\\last_dataset\\\\1_Working at Computer.xlsx\" ,sheet_name='indi3')\n",
    "        df13 = df13.head(988)\n",
    "        df14= pd.read_excel(\"D:\\\\last_dataset\\\\1_Working at Computer.xlsx\" ,sheet_name='indi4')\n",
    "        df14 = df14.head(988)\n",
    "        df15= pd.read_excel(\"D:\\\\last_dataset\\\\1_Working at Computer.xlsx\" ,sheet_name='indi5')\n",
    "        df15 = df15.head(988)\n",
    "        df16= pd.read_excel(\"D:\\\\last_dataset\\\\1_Working at Computer.xlsx\" ,sheet_name='indi6')\n",
    "        df16 = df16.head(988)\n",
    "        df17= pd.read_excel(\"D:\\\\last_dataset\\\\1_Working at Computer.xlsx\" ,sheet_name='indi7')\n",
    "        df17 = df17.head(988)\n",
    "        df18= pd.read_excel(\"D:\\\\last_dataset\\\\1_Working at Computer.xlsx\" ,sheet_name='indi8')\n",
    "        df18 = df18.head(988)\n",
    "        df19= pd.read_excel(\"D:\\\\last_dataset\\\\1_Working at Computer.xlsx\" ,sheet_name='indi9')\n",
    "        df19 = df19.head(988)\n",
    "        df20= pd.read_excel(\"D:\\\\last_dataset\\\\1_Working at Computer.xlsx\" ,sheet_name='indi10')  \n",
    "        df20 = df20.head(988)\n",
    "       \n",
    "        Working_Computer_full_frame= pd.concat([df11, df12, df13, df14, df15, df16, df17, df18, df19, df20], sort=False)\n",
    "    "
   ]
  },
  {
   "cell_type": "code",
   "execution_count": 23,
   "metadata": {},
   "outputs": [],
   "source": [
    "xlwriter = pd.ExcelWriter('C:\\\\Users\\\\Working at Computer.xlsx')\n",
    "\n",
    "Working_Computer_full_frame.to_excel(xlwriter,'Sheet1')\n",
    "xlwriter.save()"
   ]
  },
  {
   "cell_type": "markdown",
   "metadata": {},
   "source": [
    "pour l'activitée 2\n"
   ]
  },
  {
   "cell_type": "code",
   "execution_count": 40,
   "metadata": {},
   "outputs": [],
   "source": [
    "        df11= pd.read_excel(\"D:\\\\last_dataset\\\\2_Standing.xlsx\" ,sheet_name='indi1')\n",
    "        df11 = df11.head(988)\n",
    "        df12= pd.read_excel(\"D:\\\\last_dataset\\\\2_Standing.xlsx\" ,sheet_name='indi2')\n",
    "        df12 = df12.head(988)\n",
    "        df13= pd.read_excel(\"D:\\\\last_dataset\\\\2_Standing.xlsx\" ,sheet_name='indi3')\n",
    "        df13 = df13.head(988)\n",
    "        df14= pd.read_excel(\"D:\\\\last_dataset\\\\2_Standing.xlsx\" ,sheet_name='indi4')\n",
    "        df14 = df14.head(988)\n",
    "        df15= pd.read_excel(\"D:\\\\last_dataset\\\\2_Standing.xlsx\" ,sheet_name='indi5')\n",
    "        df15 = df15.head(988)\n",
    "        df16= pd.read_excel(\"D:\\\\last_dataset\\\\2_Standing.xlsx\" ,sheet_name='indi6')\n",
    "        df16 = df16.head(988)\n",
    "        df17= pd.read_excel(\"D:\\\\last_dataset\\\\2_Standing.xlsx\" ,sheet_name='indi7')\n",
    "        df17 = df17.head(988)\n",
    "        df18= pd.read_excel(\"D:\\\\last_dataset\\\\2_Standing.xlsx\" ,sheet_name='indi8')\n",
    "        df18 = df18.head(988)\n",
    "        df19= pd.read_excel(\"D:\\\\last_dataset\\\\2_Standing.xlsx\" ,sheet_name='indi9')\n",
    "        df19 = df19.head(988)\n",
    "        df20= pd.read_excel(\"D:\\\\last_dataset\\\\2_Standing.xlsx\" ,sheet_name='indi10')  \n",
    "        df20 = df20.head(988)\n",
    "       \n",
    "        full_frame= pd.concat([df11, df12, df13, df14, df15, df16, df17, df18, df19, df20], sort=False)"
   ]
  },
  {
   "cell_type": "code",
   "execution_count": 41,
   "metadata": {},
   "outputs": [],
   "source": [
    "xlwriter = pd.ExcelWriter('C:\\\\Users\\\\Standing.xlsx')\n",
    "\n",
    "full_frame.to_excel(xlwriter,'Sheet1')\n",
    "xlwriter.save()"
   ]
  },
  {
   "cell_type": "markdown",
   "metadata": {},
   "source": [
    "pour activité 3 "
   ]
  },
  {
   "cell_type": "code",
   "execution_count": 8,
   "metadata": {},
   "outputs": [],
   "source": [
    "        df1= pd.read_excel(\"D:\\\\last_dataset\\\\3_walking.xlsx\" ,sheet_name='indi1')\n",
    "        df1 = df1.head(988)\n",
    "        df2= pd.read_excel(\"D:\\\\last_dataset\\\\3_walking.xlsx\" ,sheet_name='indi2')\n",
    "        df2 = df2.head(988)\n",
    "        df3= pd.read_excel(\"D:\\\\last_dataset\\\\3_walking.xlsx\" ,sheet_name='indi3')\n",
    "        df3 = df3.head(988)\n",
    "        df4= pd.read_excel(\"D:\\\\last_dataset\\\\3_walking.xlsx\" ,sheet_name='indi4')\n",
    "        df4 = df4.head(988)\n",
    "        df5= pd.read_excel(\"D:\\\\last_dataset\\\\3_walking.xlsx\" ,sheet_name='indi5')\n",
    "        df5 = df5.head(988)\n",
    "        df6= pd.read_excel(\"D:\\\\last_dataset\\\\3_walking.xlsx\" ,sheet_name='indi6')\n",
    "        df6 = df6.head(988)\n",
    "        df7= pd.read_excel(\"D:\\\\last_dataset\\\\3_walking.xlsx\" ,sheet_name='indi7')\n",
    "        df7 = df7.head(988)\n",
    "        df8= pd.read_excel(\"D:\\\\last_dataset\\\\3_walking.xlsx\" ,sheet_name='indi8')\n",
    "        df8 = df8.head(988)\n",
    "        df9= pd.read_excel(\"D:\\\\last_dataset\\\\3_walking.xlsx\" ,sheet_name='indi9')\n",
    "        df9 = df9.head(988)\n",
    "        df10= pd.read_excel(\"D:\\\\last_dataset\\\\3_walking.xlsx\" ,sheet_name='indi10')  \n",
    "        df10 = df10.head(988)\n",
    "    \n",
    "        walking_full_frame= pd.concat([df1, df2, df3, df4, df5, df6, df7, df8, df9, df10], sort=False)"
   ]
  },
  {
   "cell_type": "code",
   "execution_count": null,
   "metadata": {},
   "outputs": [],
   "source": []
  },
  {
   "cell_type": "code",
   "execution_count": 9,
   "metadata": {},
   "outputs": [],
   "source": [
    "xlwriter = pd.ExcelWriter('C:\\\\Users\\\\Walking.xlsx')\n",
    "\n",
    "walking_full_frame.to_excel(xlwriter,'Sheet1')\n",
    "xlwriter.save()"
   ]
  },
  {
   "cell_type": "markdown",
   "metadata": {},
   "source": [
    "pour l'activitée 4"
   ]
  },
  {
   "cell_type": "code",
   "execution_count": 5,
   "metadata": {},
   "outputs": [],
   "source": [
    "        df11= pd.read_excel(\"D:\\\\last_dataset\\\\4_Going UpDown Stairs.xlsx\" ,sheet_name='indi1')\n",
    "        df11 = df11.head(988)\n",
    "        df12= pd.read_excel(\"D:\\\\last_dataset\\\\4_Going UpDown Stairs.xlsx\" ,sheet_name='indi2')\n",
    "        df12 = df12.head(988)\n",
    "        df13= pd.read_excel(\"D:\\\\last_dataset\\\\4_Going UpDown Stairs.xlsx\" ,sheet_name='indi3')\n",
    "        df13 = df13.head(988)\n",
    "        df14= pd.read_excel(\"D:\\\\last_dataset\\\\4_Going UpDown Stairs.xlsx\" ,sheet_name='indi4')\n",
    "        df14 = df14.head(988)\n",
    "        df15= pd.read_excel(\"D:\\\\last_dataset\\\\4_Going UpDown Stairs.xlsx\" ,sheet_name='indi5')\n",
    "        df15 = df15.head(988)\n",
    "        df16= pd.read_excel(\"D:\\\\last_dataset\\\\4_Going UpDown Stairs.xlsx\" ,sheet_name='indi6')\n",
    "        df16 = df16.head(988)\n",
    "        df17= pd.read_excel(\"D:\\\\last_dataset\\\\4_Going UpDown Stairs.xlsx\" ,sheet_name='indi7')\n",
    "        df17 = df17.head(988)\n",
    "        df18= pd.read_excel(\"D:\\\\last_dataset\\\\4_Going UpDown Stairs.xlsx\" ,sheet_name='indi8')\n",
    "        df18 = df18.head(988)\n",
    "        df19= pd.read_excel(\"D:\\\\last_dataset\\\\4_Going UpDown Stairs.xlsx\" ,sheet_name='indi9')\n",
    "        df19 = df19.head(988)\n",
    "        df20= pd.read_excel(\"D:\\\\last_dataset\\\\4_Going UpDown Stairs.xlsx\" ,sheet_name='indi10')  \n",
    "        df20 = df20.head(988)\n",
    "       \n",
    "        full_frame= pd.concat([df11, df12, df13, df14, df15, df16, df17, df18, df19, df20], sort=False)"
   ]
  },
  {
   "cell_type": "code",
   "execution_count": 43,
   "metadata": {},
   "outputs": [],
   "source": [
    "xlwriter = pd.ExcelWriter('C:\\\\Users\\\\Going UpDown Stairs.xlsx')\n",
    "\n",
    "full_frame.to_excel(xlwriter,'Sheet1')\n",
    "xlwriter.save()"
   ]
  },
  {
   "cell_type": "markdown",
   "metadata": {},
   "source": [
    "pour l'activit 5"
   ]
  },
  {
   "cell_type": "code",
   "execution_count": 44,
   "metadata": {},
   "outputs": [],
   "source": [
    "        df11= pd.read_excel(\"D:\\\\last_dataset\\\\5_talking while walking.xlsx\" ,sheet_name='indi1')\n",
    "        df11 = df11.head(988)\n",
    "        df12= pd.read_excel(\"D:\\\\last_dataset\\\\5_talking while walking.xlsx\" ,sheet_name='indi2')\n",
    "        df12 = df12.head(988)\n",
    "        df13= pd.read_excel(\"D:\\\\last_dataset\\\\5_talking while walking.xlsx\" ,sheet_name='indi3')\n",
    "        df13 = df13.head(988)\n",
    "        df14= pd.read_excel(\"D:\\\\last_dataset\\\\5_talking while walking.xlsx\" ,sheet_name='indi4')\n",
    "        df14 = df14.head(988)\n",
    "        df15= pd.read_excel(\"D:\\\\last_dataset\\\\5_talking while walking.xlsx\" ,sheet_name='indi5')\n",
    "        df15 = df15.head(988)\n",
    "        df16= pd.read_excel(\"D:\\\\last_dataset\\\\5_talking while walking.xlsx\" ,sheet_name='indi6')\n",
    "        df16 = df16.head(988)\n",
    "        df17= pd.read_excel(\"D:\\\\last_dataset\\\\5_talking while walking.xlsx\" ,sheet_name='indi7')\n",
    "        df17 = df17.head(988)\n",
    "        df18= pd.read_excel(\"D:\\\\last_dataset\\\\5_talking while walking.xlsx\" ,sheet_name='indi8')\n",
    "        df18 = df18.head(988)\n",
    "        df19= pd.read_excel(\"D:\\\\last_dataset\\\\5_talking while walking.xlsx\" ,sheet_name='indi9')\n",
    "        df19 = df19.head(988)\n",
    "        df20= pd.read_excel(\"D:\\\\last_dataset\\\\5_talking while walking.xlsx\" ,sheet_name='indi10')  \n",
    "        df20 = df20.head(988)\n",
    "       \n",
    "        full_frame= pd.concat([df11, df12, df13, df14, df15, df16, df17, df18, df19, df20], sort=False)"
   ]
  },
  {
   "cell_type": "code",
   "execution_count": 45,
   "metadata": {},
   "outputs": [],
   "source": [
    "xlwriter = pd.ExcelWriter('C:\\\\Users\\\\talking while walking.xlsx')\n",
    "\n",
    "full_frame.to_excel(xlwriter,'Sheet1')\n",
    "xlwriter.save()\n",
    "    "
   ]
  },
  {
   "cell_type": "markdown",
   "metadata": {},
   "source": [
    "Pour l'activité 6\n",
    "    "
   ]
  },
  {
   "cell_type": "code",
   "execution_count": 46,
   "metadata": {},
   "outputs": [],
   "source": [
    "        df11= pd.read_excel(\"D:\\\\last_dataset\\\\6_talking while standing.xlsx\" ,sheet_name='indi1')\n",
    "        df11 = df11.head(988)\n",
    "        df12= pd.read_excel(\"D:\\\\last_dataset\\\\6_talking while standing.xlsx\" ,sheet_name='indi2')\n",
    "        df12 = df12.head(988)\n",
    "        df13= pd.read_excel(\"D:\\\\last_dataset\\\\6_talking while standing.xlsx\" ,sheet_name='indi3')\n",
    "        df13 = df13.head(988)\n",
    "        df14= pd.read_excel(\"D:\\\\last_dataset\\\\6_talking while standing.xlsx\" ,sheet_name='indi4')\n",
    "        df14 = df14.head(988)\n",
    "        df15= pd.read_excel(\"D:\\\\last_dataset\\\\6_talking while standing.xlsx\" ,sheet_name='indi5')\n",
    "        df15 = df15.head(988)\n",
    "        df16= pd.read_excel(\"D:\\\\last_dataset\\\\6_talking while standing.xlsx\" ,sheet_name='indi6')\n",
    "        df16 = df16.head(988)\n",
    "        df17= pd.read_excel(\"D:\\\\last_dataset\\\\6_talking while standing.xlsx\" ,sheet_name='indi7')\n",
    "        df17 = df17.head(988)\n",
    "        df18= pd.read_excel(\"D:\\\\last_dataset\\\\6_talking while standing.xlsx\" ,sheet_name='indi8')\n",
    "        df18 = df18.head(988)\n",
    "        df19= pd.read_excel(\"D:\\\\last_dataset\\\\6_talking while standing.xlsx\" ,sheet_name='indi9')\n",
    "        df19 = df19.head(988)\n",
    "        df20= pd.read_excel(\"D:\\\\last_dataset\\\\6_talking while standing.xlsx\" ,sheet_name='indi10')  \n",
    "        df20 = df20.head(988)\n",
    "       \n",
    "        walking_full_frame= pd.concat([df11, df12, df13, df14, df15, df16, df17, df18, df19, df20], sort=False)\n",
    "    "
   ]
  },
  {
   "cell_type": "code",
   "execution_count": 47,
   "metadata": {},
   "outputs": [],
   "source": [
    "#walking_full_frame.to_pickle(\"C:\\\\Users\\\\talking while standing.pkl\")\n",
    "xlwriter = pd.ExcelWriter('C:\\\\Users\\\\talking while standing.xlsx')\n",
    "\n",
    "walking_full_frame.to_excel(xlwriter,'Sheet1')\n",
    "xlwriter.save()"
   ]
  },
  {
   "cell_type": "code",
   "execution_count": null,
   "metadata": {},
   "outputs": [],
   "source": []
  },
  {
   "cell_type": "code",
   "execution_count": 24,
   "metadata": {},
   "outputs": [
    {
     "name": "stdout",
     "output_type": "stream",
     "text": [
      "Requirement already satisfied: openpyxl in c:\\programdata\\anaconda3\\lib\\site-packages (3.0.5)\n",
      "Requirement already satisfied: et-xmlfile in c:\\programdata\\anaconda3\\lib\\site-packages (from openpyxl) (1.0.1)\n",
      "Requirement already satisfied: jdcal in c:\\programdata\\anaconda3\\lib\\site-packages (from openpyxl) (1.4.1)\n"
     ]
    }
   ],
   "source": [
    "!pip install openpyxl"
   ]
  },
  {
   "cell_type": "code",
   "execution_count": null,
   "metadata": {},
   "outputs": [],
   "source": []
  }
 ],
 "metadata": {
  "kernelspec": {
   "display_name": "Python 3 (ipykernel)",
   "language": "python",
   "name": "python3"
  },
  "language_info": {
   "codemirror_mode": {
    "name": "ipython",
    "version": 3
   },
   "file_extension": ".py",
   "mimetype": "text/x-python",
   "name": "python",
   "nbconvert_exporter": "python",
   "pygments_lexer": "ipython3",
   "version": "3.9.12"
  }
 },
 "nbformat": 4,
 "nbformat_minor": 4
}
